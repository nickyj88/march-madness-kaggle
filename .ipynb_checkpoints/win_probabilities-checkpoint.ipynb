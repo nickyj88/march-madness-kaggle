{
 "cells": [
  {
   "cell_type": "markdown",
   "metadata": {},
   "source": [
    "# Determine win probabilities for each potential team pair #"
   ]
  },
  {
   "cell_type": "markdown",
   "metadata": {},
   "source": [
    "## Pull in data ##"
   ]
  },
  {
   "cell_type": "markdown",
   "metadata": {},
   "source": [
    "### Using the same naming conventions as the data provided by Kaggle ###"
   ]
  },
  {
   "cell_type": "code",
   "execution_count": 2,
   "metadata": {
    "collapsed": false
   },
   "outputs": [],
   "source": [
    "import graphlab as gl"
   ]
  },
  {
   "cell_type": "code",
   "execution_count": 4,
   "metadata": {
    "collapsed": false
   },
   "outputs": [
    {
     "name": "stderr",
     "output_type": "stream",
     "text": [
      "[INFO] This non-commercial license of GraphLab Create is assigned to ty.walker@gmail.com and will expire on November 24, 2016. For commercial licensing options, visit https://dato.com/buy/.\n",
      "\n",
      "[INFO] Start server at: ipc:///tmp/graphlab_server-125940 - Server binary: F:\\Users\\Ty\\Anaconda\\lib\\site-packages\\graphlab\\unity_server.exe - Server log: C:\\Users\\Ty\\AppData\\Local\\Temp\\graphlab_server_1456616543.log.0\n",
      "[INFO] GraphLab Server Version: 1.8\n"
     ]
    },
    {
     "name": "stdout",
     "output_type": "stream",
     "text": [
      "PROGRESS: Finished parsing file C:\\users\\ty\\code\\march-madness-kaggle\\data\\Teams.csv\n",
      "PROGRESS: Parsing completed. Parsed 100 lines in 0.015997 secs.\n",
      "------------------------------------------------------\n",
      "Inferred types from first line of file as \n",
      "column_type_hints=[long,str]\n",
      "If parsing fails due to incorrect types, you can correct\n",
      "the inferred type list above and pass it to read_csv in\n",
      "the column_type_hints argument\n",
      "------------------------------------------------------\n",
      "PROGRESS: Finished parsing file C:\\users\\ty\\code\\march-madness-kaggle\\data\\Teams.csv\n",
      "PROGRESS: Parsing completed. Parsed 364 lines in 0.014999 secs.\n"
     ]
    }
   ],
   "source": [
    "teams = gl.SFrame.read_csv('./data/Teams.csv')"
   ]
  },
  {
   "cell_type": "code",
   "execution_count": 7,
   "metadata": {
    "collapsed": false
   },
   "outputs": [
    {
     "name": "stdout",
     "output_type": "stream",
     "text": [
      "PROGRESS: Finished parsing file C:\\users\\ty\\code\\march-madness-kaggle\\data\\Seasons.csv\n",
      "PROGRESS: Parsing completed. Parsed 32 lines in 0.016001 secs.\n",
      "------------------------------------------------------\n",
      "Inferred types from first line of file as \n",
      "column_type_hints=[long,str,str,str,str,str]\n",
      "If parsing fails due to incorrect types, you can correct\n",
      "the inferred type list above and pass it to read_csv in\n",
      "the column_type_hints argument\n",
      "------------------------------------------------------\n",
      "PROGRESS: Finished parsing file C:\\users\\ty\\code\\march-madness-kaggle\\data\\Seasons.csv\n",
      "PROGRESS: Parsing completed. Parsed 32 lines in 0.014002 secs.\n"
     ]
    }
   ],
   "source": [
    "seasons = gl.SFrame.read_csv('./data/Seasons.csv')"
   ]
  },
  {
   "cell_type": "code",
   "execution_count": 8,
   "metadata": {
    "collapsed": false
   },
   "outputs": [
    {
     "name": "stdout",
     "output_type": "stream",
     "text": [
      "PROGRESS: Finished parsing file C:\\users\\ty\\code\\march-madness-kaggle\\data\\RegularSeasonCompactResults.csv\n",
      "PROGRESS: Parsing completed. Parsed 100 lines in 0.118007 secs.\n",
      "------------------------------------------------------\n",
      "Inferred types from first line of file as \n",
      "column_type_hints=[long,long,long,long,long,long,str,long]\n",
      "If parsing fails due to incorrect types, you can correct\n",
      "the inferred type list above and pass it to read_csv in\n",
      "the column_type_hints argument\n",
      "------------------------------------------------------\n",
      "PROGRESS: Finished parsing file C:\\users\\ty\\code\\march-madness-kaggle\\data\\RegularSeasonCompactResults.csv\n",
      "PROGRESS: Parsing completed. Parsed 139920 lines in 0.112007 secs.\n"
     ]
    }
   ],
   "source": [
    "reg_season_compact = gl.SFrame.read_csv('./data/RegularSeasonCompactResults.csv')"
   ]
  },
  {
   "cell_type": "code",
   "execution_count": 9,
   "metadata": {
    "collapsed": false
   },
   "outputs": [
    {
     "name": "stdout",
     "output_type": "stream",
     "text": [
      "PROGRESS: Finished parsing file C:\\users\\ty\\code\\march-madness-kaggle\\data\\TourneyCompactResults.csv\n",
      "PROGRESS: Parsing completed. Parsed 100 lines in 0.016006 secs.\n",
      "------------------------------------------------------\n",
      "Inferred types from first line of file as \n",
      "column_type_hints=[long,long,long,long,long,long,str,long]\n",
      "If parsing fails due to incorrect types, you can correct\n",
      "the inferred type list above and pass it to read_csv in\n",
      "the column_type_hints argument\n",
      "------------------------------------------------------\n",
      "PROGRESS: Finished parsing file C:\\users\\ty\\code\\march-madness-kaggle\\data\\TourneyCompactResults.csv\n",
      "PROGRESS: Parsing completed. Parsed 1983 lines in 0.017002 secs.\n"
     ]
    }
   ],
   "source": [
    "tourney_compact = gl.SFrame.read_csv('./data/TourneyCompactResults.csv')"
   ]
  },
  {
   "cell_type": "code",
   "execution_count": null,
   "metadata": {
    "collapsed": true
   },
   "outputs": [],
   "source": []
  }
 ],
 "metadata": {
  "kernelspec": {
   "display_name": "Python 2",
   "language": "python",
   "name": "python2"
  },
  "language_info": {
   "codemirror_mode": {
    "name": "ipython",
    "version": 2
   },
   "file_extension": ".py",
   "mimetype": "text/x-python",
   "name": "python",
   "nbconvert_exporter": "python",
   "pygments_lexer": "ipython2",
   "version": "2.7.9"
  }
 },
 "nbformat": 4,
 "nbformat_minor": 0
}
